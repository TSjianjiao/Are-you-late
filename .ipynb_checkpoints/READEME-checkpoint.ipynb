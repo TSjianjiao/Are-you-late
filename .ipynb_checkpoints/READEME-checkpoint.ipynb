{
 "cells": [
  {
   "cell_type": "markdown",
   "metadata": {},
   "source": [
    "# 数组元素分组输出"
   ]
  },
  {
   "cell_type": "code",
   "execution_count": 5,
   "metadata": {},
   "outputs": [
    {
     "name": "stderr",
     "output_type": "stream",
     "text": [
      "6:20 - Property 'length' does not exist on type '{}'.\n",
      "7:8 - Property 'slice' does not exist on type '{}'.\n"
     ]
    }
   ],
   "source": [
    "let str = ''\n",
    "const list = [1, 2, 3, 4, 5, 6, 7, 8, 9, 10, 11, 12, 13, 14, 15]\n",
    "const size = 5\n",
    "const res = []\n",
    "let index = 0\n",
    "while(index < list.length) {\n",
    "  list.slice(index, (index += size)).map(i => {\n",
    "    str += ' ' + i\n",
    "  })\n",
    "  console.log(str)\n",
    "  str = ''\n",
    "}"
   ]
  },
  {
   "cell_type": "markdown",
   "metadata": {},
   "source": []
  }
 ],
 "metadata": {
  "kernelspec": {
   "display_name": "TypeScript",
   "language": "typescript",
   "name": "tslab"
  },
  "language_info": {
   "codemirror_mode": {
    "mode": "typescript",
    "name": "javascript",
    "typescript": true
   },
   "file_extension": ".ts",
   "mimetype": "text/typescript",
   "name": "typescript",
   "version": "3.7.2"
  }
 },
 "nbformat": 4,
 "nbformat_minor": 2
}
