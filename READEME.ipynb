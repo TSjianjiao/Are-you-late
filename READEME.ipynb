{
 "cells": [
  {
   "cell_type": "markdown",
   "source": [
    "# 数组元素分组输出"
   ],
   "metadata": {}
  },
  {
   "cell_type": "code",
   "execution_count": 7,
   "source": [
    "let str = ''\r\n",
    "const list = [1, 2, 3, 4, 5, 6, 7, 8, 9, 10, 11, 12, 13, 14, 15]\r\n",
    "const size = 5\r\n",
    "const res = []\r\n",
    "let index = 0\r\n",
    "while(index < list.length) {\r\n",
    "  list.slice(index, (index += size)).map(i => {\r\n",
    "    str += ' ' + i\r\n",
    "  })\r\n",
    "  console.log(str)\r\n",
    "  str = ''\r\n",
    "}"
   ],
   "outputs": [
    {
     "output_type": "stream",
     "name": "stderr",
     "text": [
      "2:16 - Cannot find name 'Array'.\n"
     ]
    }
   ],
   "metadata": {}
  },
  {
   "cell_type": "markdown",
   "source": [],
   "metadata": {}
  }
 ],
 "metadata": {
  "kernelspec": {
   "display_name": "TypeScript",
   "language": "typescript",
   "name": "tslab"
  },
  "language_info": {
   "name": "typescript",
   "version": "3.7.2",
   "mimetype": "text/typescript",
   "file_extension": ".ts",
   "codemirror_mode": {
    "mode": "typescript",
    "name": "javascript",
    "typescript": true
   }
  }
 },
 "nbformat": 4,
 "nbformat_minor": 2
}